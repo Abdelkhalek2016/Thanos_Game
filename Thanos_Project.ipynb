{
 "cells": [
  {
   "cell_type": "code",
   "execution_count": 3,
   "metadata": {},
   "outputs": [],
   "source": [
    "import os\n",
    "import random\n",
    "import time\n"
   ]
  },
  {
   "cell_type": "code",
   "execution_count": 8,
   "metadata": {},
   "outputs": [
    {
     "data": {
      "text/plain": [
       "['cover001.png',\n",
       " 'cover002.png',\n",
       " 'cover003.png',\n",
       " 'cover004.png',\n",
       " 'cover005.png',\n",
       " 'cover006.png',\n",
       " 'cover007.png',\n",
       " 'cover008.png',\n",
       " 'cover009.png',\n",
       " 'cover010.png',\n",
       " 'cover011.png',\n",
       " 'cover012.png',\n",
       " 'cover013.png',\n",
       " 'cover014.png',\n",
       " 'cover015.png',\n",
       " 'cover016.png',\n",
       " 'cover017.png',\n",
       " 'cover018.png',\n",
       " 'cover019.png',\n",
       " 'cover020.png',\n",
       " 'cover021.png',\n",
       " 'cover022.png',\n",
       " 'cover023.png',\n",
       " 'cover024.png',\n",
       " 'cover025.png',\n",
       " 'cover026.png',\n",
       " 'cover027.png',\n",
       " 'cover028.png',\n",
       " 'cover029.png',\n",
       " 'cover030.png',\n",
       " 'cover031.png',\n",
       " 'cover032.png',\n",
       " 'cover033.png',\n",
       " 'cover034.png',\n",
       " 'cover035.png',\n",
       " 'cover036.png',\n",
       " 'cover037.png',\n",
       " 'cover038.png',\n",
       " 'cover039.png',\n",
       " 'cover040.png',\n",
       " 'cover041.png',\n",
       " 'cover042.png',\n",
       " 'cover043.png',\n",
       " 'cover044.png',\n",
       " 'cover045.png',\n",
       " 'cover046.png',\n",
       " 'cover047.png',\n",
       " 'cover048.png',\n",
       " 'cover049.png',\n",
       " 'cover050.png',\n",
       " 'desktop.ini']"
      ]
     },
     "execution_count": 8,
     "metadata": {},
     "output_type": "execute_result"
    }
   ],
   "source": [
    "path='UniVerse'\n",
    "os.listdir(path)"
   ]
  },
  {
   "cell_type": "code",
   "execution_count": 84,
   "metadata": {},
   "outputs": [
    {
     "name": "stdout",
     "output_type": "stream",
     "text": [
      "All Files Count: 3\n",
      "Half of file counts: 1\n",
      "half of files deleted, also count of current files is :2\n",
      "All Files Count: 2\n",
      "Half of file counts: 1\n",
      "half of files deleted, also count of current files is :1\n",
      "All Files Count: 1\n",
      "Half of file counts: 0\n",
      "half of files deleted, also count of current files is :0\n",
      "end game\n"
     ]
    }
   ],
   "source": [
    "while 1:\n",
    "    check=input('enter \"thanos\" to begin game').strip().lower()\n",
    "    if check=='thanos':\n",
    "\n",
    "\n",
    "        #list of file names into folder universe\n",
    "        filenames=os.listdir(path)\n",
    "        #list of names for half files of folder\n",
    "        halffilenames=random.sample(filenames,k=len(filenames)//2)\n",
    "        print(f'All Files Count: {len(filenames)}')\n",
    "        print(f'Half of file counts: {len(halffilenames)}')\n",
    "        halffilenames\n",
    "        #need looping on files into folder universe to delete files with names into halflist\n",
    "        filenames=os.listdir(path)\n",
    "        if len(filenames)==1:\n",
    "                os.remove(f'{path}\\{filenames[i]}')\n",
    "        for i in range(len(halffilenames)):\n",
    "            \n",
    "            os.remove(f'{path}\\{halffilenames[i]}')\n",
    "        filenames=os.listdir(path)\n",
    "        print(f'half of files deleted, also count of current files is :{len(filenames)}')\n",
    "    else:\n",
    "        print('wrong input, please try again')\n",
    "        continue\n",
    "    \n",
    "    if len(filenames)==0:\n",
    "        break\n",
    "    end=input('are you need to play again press [y] or [n]')\n",
    "    \n",
    "    \n",
    "    \n",
    "    if end=='y':\n",
    "        continue\n",
    "    else:\n",
    "        break\n",
    "print('end game')\n",
    "\n",
    "\n"
   ]
  },
  {
   "cell_type": "code",
   "execution_count": 65,
   "metadata": {},
   "outputs": [
    {
     "name": "stdout",
     "output_type": "stream",
     "text": [
      "half of files deleted, also count of current files is :0\n"
     ]
    }
   ],
   "source": []
  },
  {
   "cell_type": "code",
   "execution_count": null,
   "metadata": {},
   "outputs": [],
   "source": []
  }
 ],
 "metadata": {
  "kernelspec": {
   "display_name": "DATASCIENCE",
   "language": "python",
   "name": "python3"
  },
  "language_info": {
   "codemirror_mode": {
    "name": "ipython",
    "version": 3
   },
   "file_extension": ".py",
   "mimetype": "text/x-python",
   "name": "python",
   "nbconvert_exporter": "python",
   "pygments_lexer": "ipython3",
   "version": "3.9.16"
  },
  "orig_nbformat": 4,
  "vscode": {
   "interpreter": {
    "hash": "ae8a79677a5d6b3037e1e1cee72b87831aa8994e8ed84ed9662b31584e879edd"
   }
  }
 },
 "nbformat": 4,
 "nbformat_minor": 2
}
